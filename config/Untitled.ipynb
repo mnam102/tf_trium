{
 "cells": [
  {
   "cell_type": "code",
   "execution_count": 1,
   "id": "grave-hostel",
   "metadata": {},
   "outputs": [],
   "source": [
    "import yaml\n",
    "from munch import DefaultMunch"
   ]
  },
  {
   "cell_type": "code",
   "execution_count": 19,
   "id": "accomplished-weight",
   "metadata": {},
   "outputs": [],
   "source": [
    "def load_yaml(path):\n",
    "    with open(path) as f:\n",
    "        data = yaml.load(f, Loader=yaml.FullLoader)\n",
    "    dataObj = DefaultMunch.fromDict(data)\n",
    "    return dataObj"
   ]
  },
  {
   "cell_type": "code",
   "execution_count": 24,
   "id": "mediterranean-suffering",
   "metadata": {},
   "outputs": [
    {
     "ename": "AttributeError",
     "evalue": "type object 'DefaultMunch' has no attribute '__type__'",
     "output_type": "error",
     "traceback": [
      "\u001b[0;31m---------------------------------------------------------------------------\u001b[0m",
      "\u001b[0;31mAttributeError\u001b[0m                            Traceback (most recent call last)",
      "\u001b[0;32m<ipython-input-24-160cf578a290>\u001b[0m in \u001b[0;36m<module>\u001b[0;34m\u001b[0m\n\u001b[0;32m----> 1\u001b[0;31m \u001b[0mDefaultMunch\u001b[0m\u001b[0;34m.\u001b[0m\u001b[0m__type__\u001b[0m\u001b[0;34m\u001b[0m\u001b[0;34m\u001b[0m\u001b[0m\n\u001b[0m",
      "\u001b[0;31mAttributeError\u001b[0m: type object 'DefaultMunch' has no attribute '__type__'"
     ]
    }
   ],
   "source": [
    "DefaultMunch"
   ]
  },
  {
   "cell_type": "code",
   "execution_count": 21,
   "id": "normal-argument",
   "metadata": {},
   "outputs": [
    {
     "data": {
      "text/plain": [
       "500"
      ]
     },
     "execution_count": 21,
     "metadata": {},
     "output_type": "execute_result"
    }
   ],
   "source": [
    "load_yaml('train.yml').EPOCH"
   ]
  },
  {
   "cell_type": "code",
   "execution_count": 18,
   "id": "existing-barrel",
   "metadata": {},
   "outputs": [
    {
     "data": {
      "text/plain": [
       "'data/nir_all_resampled_df.ftr'"
      ]
     },
     "execution_count": 18,
     "metadata": {},
     "output_type": "execute_result"
    }
   ],
   "source": [
    "dataObj.RAW_PATH"
   ]
  },
  {
   "cell_type": "code",
   "execution_count": 12,
   "id": "injured-leeds",
   "metadata": {},
   "outputs": [],
   "source": [
    "\n",
    "d = {'a': 1, 'b': {'c': 2}, 'd': [\"hi\", {'foo': \"bar\"}]}\n",
    "obj = DefaultMunch.fromDict(d)"
   ]
  },
  {
   "cell_type": "code",
   "execution_count": 14,
   "id": "close-heading",
   "metadata": {},
   "outputs": [
    {
     "data": {
      "text/plain": [
       "1"
      ]
     },
     "execution_count": 14,
     "metadata": {},
     "output_type": "execute_result"
    }
   ],
   "source": [
    "obj.a"
   ]
  },
  {
   "cell_type": "code",
   "execution_count": 8,
   "id": "vital-breakfast",
   "metadata": {},
   "outputs": [],
   "source": [
    "from bunch import bunchify"
   ]
  },
  {
   "cell_type": "code",
   "execution_count": 7,
   "id": "progressive-toddler",
   "metadata": {},
   "outputs": [
    {
     "name": "stdout",
     "output_type": "stream",
     "text": [
      "Collecting bunch\n",
      "  Downloading bunch-1.0.1.zip (11 kB)\n",
      "Building wheels for collected packages: bunch\n",
      "  Building wheel for bunch (setup.py) ... \u001b[?25ldone\n",
      "\u001b[?25h  Created wheel for bunch: filename=bunch-1.0.1-py3-none-any.whl size=7074 sha256=f6eeedffea845618187ba8fccb0aa45e4cd457ce12bba793d0f07d5c124cc113\n",
      "  Stored in directory: /Users/dhkim/Library/Caches/pip/wheels/97/d1/bd/a1c9016708dc8500864d63506573d3961c45451e74ddc52eed\n",
      "Successfully built bunch\n",
      "Installing collected packages: bunch\n",
      "Successfully installed bunch-1.0.1\n",
      "\u001b[33mWARNING: You are using pip version 21.0.1; however, version 21.3.1 is available.\n",
      "You should consider upgrading via the '/Users/dhkim/.pyenv/versions/anaconda3-5.3.1/envs/torch/bin/python -m pip install --upgrade pip' command.\u001b[0m\n"
     ]
    }
   ],
   "source": [
    "!pip install bunch"
   ]
  },
  {
   "cell_type": "code",
   "execution_count": 25,
   "id": "tender-jenny",
   "metadata": {},
   "outputs": [],
   "source": [
    "import pickle"
   ]
  },
  {
   "cell_type": "code",
   "execution_count": 27,
   "id": "registered-opening",
   "metadata": {},
   "outputs": [
    {
     "ename": "TypeError",
     "evalue": "file must have 'read' and 'readline' attributes",
     "output_type": "error",
     "traceback": [
      "\u001b[0;31m---------------------------------------------------------------------------\u001b[0m",
      "\u001b[0;31mTypeError\u001b[0m                                 Traceback (most recent call last)",
      "\u001b[0;32m<ipython-input-27-21af88b05843>\u001b[0m in \u001b[0;36m<module>\u001b[0;34m\u001b[0m\n\u001b[0;32m----> 1\u001b[0;31m \u001b[0mpickle\u001b[0m\u001b[0;34m.\u001b[0m\u001b[0mload\u001b[0m\u001b[0;34m(\u001b[0m\u001b[0;34m'../data/log_Y_test.pkl'\u001b[0m\u001b[0;34m)\u001b[0m\u001b[0;34m\u001b[0m\u001b[0;34m\u001b[0m\u001b[0m\n\u001b[0m",
      "\u001b[0;31mTypeError\u001b[0m: file must have 'read' and 'readline' attributes"
     ]
    }
   ],
   "source": [
    "pickle.load('../data/log_Y_test.pkl')"
   ]
  },
  {
   "cell_type": "code",
   "execution_count": 29,
   "id": "owned-egyptian",
   "metadata": {},
   "outputs": [],
   "source": [
    "\n",
    "\n",
    "with open('../data/log_Y_test.pkl', 'rb') as f:\n",
    "    data = pickle.load(f)"
   ]
  },
  {
   "cell_type": "code",
   "execution_count": 30,
   "id": "invalid-uniform",
   "metadata": {},
   "outputs": [
    {
     "data": {
      "text/html": [
       "<div>\n",
       "<style scoped>\n",
       "    .dataframe tbody tr th:only-of-type {\n",
       "        vertical-align: middle;\n",
       "    }\n",
       "\n",
       "    .dataframe tbody tr th {\n",
       "        vertical-align: top;\n",
       "    }\n",
       "\n",
       "    .dataframe thead th {\n",
       "        text-align: right;\n",
       "    }\n",
       "</style>\n",
       "<table border=\"1\" class=\"dataframe\">\n",
       "  <thead>\n",
       "    <tr style=\"text-align: right;\">\n",
       "      <th></th>\n",
       "      <th>F1</th>\n",
       "      <th>F2</th>\n",
       "      <th>F3</th>\n",
       "    </tr>\n",
       "  </thead>\n",
       "  <tbody>\n",
       "    <tr>\n",
       "      <th>407</th>\n",
       "      <td>8.035644</td>\n",
       "      <td>7.873353</td>\n",
       "      <td>7.297490</td>\n",
       "    </tr>\n",
       "    <tr>\n",
       "      <th>902</th>\n",
       "      <td>9.502168</td>\n",
       "      <td>10.298317</td>\n",
       "      <td>8.324653</td>\n",
       "    </tr>\n",
       "    <tr>\n",
       "      <th>357</th>\n",
       "      <td>7.978942</td>\n",
       "      <td>7.911108</td>\n",
       "      <td>7.362155</td>\n",
       "    </tr>\n",
       "    <tr>\n",
       "      <th>172</th>\n",
       "      <td>8.784383</td>\n",
       "      <td>10.540766</td>\n",
       "      <td>8.537151</td>\n",
       "    </tr>\n",
       "    <tr>\n",
       "      <th>129</th>\n",
       "      <td>7.586672</td>\n",
       "      <td>9.386068</td>\n",
       "      <td>8.032626</td>\n",
       "    </tr>\n",
       "    <tr>\n",
       "      <th>...</th>\n",
       "      <td>...</td>\n",
       "      <td>...</td>\n",
       "      <td>...</td>\n",
       "    </tr>\n",
       "    <tr>\n",
       "      <th>1195</th>\n",
       "      <td>10.031771</td>\n",
       "      <td>11.029432</td>\n",
       "      <td>9.161215</td>\n",
       "    </tr>\n",
       "    <tr>\n",
       "      <th>1281</th>\n",
       "      <td>10.241890</td>\n",
       "      <td>10.417444</td>\n",
       "      <td>7.995284</td>\n",
       "    </tr>\n",
       "    <tr>\n",
       "      <th>427</th>\n",
       "      <td>10.262392</td>\n",
       "      <td>9.866502</td>\n",
       "      <td>9.207369</td>\n",
       "    </tr>\n",
       "    <tr>\n",
       "      <th>275</th>\n",
       "      <td>6.923395</td>\n",
       "      <td>8.899984</td>\n",
       "      <td>8.560680</td>\n",
       "    </tr>\n",
       "    <tr>\n",
       "      <th>1070</th>\n",
       "      <td>7.353332</td>\n",
       "      <td>10.764906</td>\n",
       "      <td>9.078780</td>\n",
       "    </tr>\n",
       "  </tbody>\n",
       "</table>\n",
       "<p>128 rows × 3 columns</p>\n",
       "</div>"
      ],
      "text/plain": [
       "             F1         F2        F3\n",
       "407    8.035644   7.873353  7.297490\n",
       "902    9.502168  10.298317  8.324653\n",
       "357    7.978942   7.911108  7.362155\n",
       "172    8.784383  10.540766  8.537151\n",
       "129    7.586672   9.386068  8.032626\n",
       "...         ...        ...       ...\n",
       "1195  10.031771  11.029432  9.161215\n",
       "1281  10.241890  10.417444  7.995284\n",
       "427   10.262392   9.866502  9.207369\n",
       "275    6.923395   8.899984  8.560680\n",
       "1070   7.353332  10.764906  9.078780\n",
       "\n",
       "[128 rows x 3 columns]"
      ]
     },
     "execution_count": 30,
     "metadata": {},
     "output_type": "execute_result"
    }
   ],
   "source": [
    "data"
   ]
  },
  {
   "cell_type": "code",
   "execution_count": null,
   "id": "ahead-threshold",
   "metadata": {},
   "outputs": [],
   "source": []
  }
 ],
 "metadata": {
  "kernelspec": {
   "display_name": "torch",
   "language": "python",
   "name": "torch"
  },
  "language_info": {
   "codemirror_mode": {
    "name": "ipython",
    "version": 3
   },
   "file_extension": ".py",
   "mimetype": "text/x-python",
   "name": "python",
   "nbconvert_exporter": "python",
   "pygments_lexer": "ipython3",
   "version": "3.6.12"
  }
 },
 "nbformat": 4,
 "nbformat_minor": 5
}
